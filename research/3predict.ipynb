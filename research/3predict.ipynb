{
 "cells": [
  {
   "cell_type": "code",
   "execution_count": 2,
   "metadata": {},
   "outputs": [],
   "source": [
    "import os\n",
    "os.chdir('..')"
   ]
  },
  {
   "cell_type": "code",
   "execution_count": 3,
   "metadata": {},
   "outputs": [
    {
     "data": {
      "text/plain": [
       "'c:\\\\Users\\\\anasm\\\\OneDrive\\\\Desktop\\\\Image Processing\\\\Kidney disease detection'"
      ]
     },
     "execution_count": 3,
     "metadata": {},
     "output_type": "execute_result"
    }
   ],
   "source": [
    "%pwd"
   ]
  },
  {
   "cell_type": "code",
   "execution_count": 4,
   "metadata": {},
   "outputs": [],
   "source": [
    "#add to entity\n",
    "from dataclasses import dataclass\n",
    "from pathlib import Path\n",
    "\n",
    "@dataclass(frozen=True)\n",
    "class PreparePredictionConfig:\n",
    "    root_dir: Path\n",
    "    trained_model_path: Path\n",
    "    prediction_data: Path"
   ]
  },
  {
   "cell_type": "code",
   "execution_count": 5,
   "metadata": {},
   "outputs": [],
   "source": [
    "from src.constants import *\n",
    "import tensorflow as tf\n",
    "from src.utils.common import read_yaml"
   ]
  },
  {
   "cell_type": "code",
   "execution_count": 6,
   "metadata": {},
   "outputs": [
    {
     "data": {
      "text/plain": [
       "WindowsPath('C:/Users/anasm/OneDrive/Desktop/Image Processing/Kidney disease detection/Prediction')"
      ]
     },
     "execution_count": 6,
     "metadata": {},
     "output_type": "execute_result"
    }
   ],
   "source": [
    "PREDICTION_DATA_PATH"
   ]
  },
  {
   "cell_type": "code",
   "execution_count": 7,
   "metadata": {},
   "outputs": [],
   "source": [
    "class ConfigurationManager:\n",
    "    def __init__(\n",
    "        self,\n",
    "        config_filepath=CONFIG_FILE_PATH):\n",
    "        self.config=read_yaml(config_filepath)\n",
    "\n",
    "    def get_prediction_configs(self) -> PreparePredictionConfig:\n",
    "        prediction_config=PreparePredictionConfig(\n",
    "            root_dir=self.config.prepare_base_model.root_dir,\n",
    "            trained_model_path=self.config.training.trained_model_path,\n",
    "            prediction_data= PREDICTION_DATA_PATH\n",
    "        )\n",
    "\n",
    "        return prediction_config"
   ]
  },
  {
   "cell_type": "code",
   "execution_count": 8,
   "metadata": {},
   "outputs": [
    {
     "name": "stdout",
     "output_type": "stream",
     "text": [
      "[2024-08-18 00:30:19,635: INFO: common: yaml file: C:\\Users\\anasm\\OneDrive\\Desktop\\Image Processing\\Kidney disease detection\\config\\config.yaml loaded successfully]\n"
     ]
    }
   ],
   "source": [
    "cmanager=ConfigurationManager()\n",
    "prediction_config=cmanager.get_prediction_configs()"
   ]
  },
  {
   "cell_type": "code",
   "execution_count": 9,
   "metadata": {},
   "outputs": [],
   "source": [
    "import cv2\n",
    "import numpy as np\n",
    "class Predictor:\n",
    "    def __init__(self, config: PreparePredictionConfig):\n",
    "        self.config=config\n",
    "    \n",
    "    def load_model(self):\n",
    "        self.model=tf.keras.models.load_model(self.config.trained_model_path)\n",
    "\n",
    "    def load_data(self):\n",
    "        self.data=[]\n",
    "        for filename in os.listdir(self.config.prediction_data):\n",
    "            filepath=os.path.join(self.config.prediction_data, filename)\n",
    "            img=cv2.imread(filepath, 1)\n",
    "            img=cv2.cvtColor(img, cv2.COLOR_BGR2RGB)\n",
    "            img=cv2.resize(img, (224, 224))\n",
    "            self.data.append(img)\n",
    "        self.data=np.array(self.data, dtype=np.uint8)\n",
    "\n",
    "    def estimate(self):\n",
    "        self.y=self.model.predict(self.data)\n",
    "        return self.y\n",
    "    "
   ]
  },
  {
   "cell_type": "code",
   "execution_count": 10,
   "metadata": {},
   "outputs": [
    {
     "name": "stdout",
     "output_type": "stream",
     "text": [
      "[2024-08-18 00:30:19,896: WARNING: saving_utils: Compiled the loaded model, but the compiled metrics have yet to be built. `model.compile_metrics` will be empty until you train or evaluate the model.]\n"
     ]
    }
   ],
   "source": [
    "p=Predictor(prediction_config)\n",
    "p.load_model()"
   ]
  },
  {
   "cell_type": "code",
   "execution_count": 11,
   "metadata": {},
   "outputs": [],
   "source": [
    "p.load_data()"
   ]
  },
  {
   "cell_type": "code",
   "execution_count": 12,
   "metadata": {},
   "outputs": [
    {
     "name": "stdout",
     "output_type": "stream",
     "text": [
      "\u001b[1m1/1\u001b[0m \u001b[32m━━━━━━━━━━━━━━━━━━━━\u001b[0m\u001b[37m\u001b[0m \u001b[1m0s\u001b[0m 352ms/step\n"
     ]
    }
   ],
   "source": [
    "y=p.estimate()"
   ]
  },
  {
   "cell_type": "code",
   "execution_count": 13,
   "metadata": {},
   "outputs": [
    {
     "name": "stdout",
     "output_type": "stream",
     "text": [
      "0\n"
     ]
    }
   ],
   "source": [
    "print(y.argmax())"
   ]
  },
  {
   "cell_type": "code",
   "execution_count": null,
   "metadata": {},
   "outputs": [],
   "source": []
  }
 ],
 "metadata": {
  "kernelspec": {
   "display_name": "Python 3",
   "language": "python",
   "name": "python3"
  },
  "language_info": {
   "codemirror_mode": {
    "name": "ipython",
    "version": 3
   },
   "file_extension": ".py",
   "mimetype": "text/x-python",
   "name": "python",
   "nbconvert_exporter": "python",
   "pygments_lexer": "ipython3",
   "version": "3.12.1"
  }
 },
 "nbformat": 4,
 "nbformat_minor": 2
}
