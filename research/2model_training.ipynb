{
 "cells": [
  {
   "cell_type": "code",
   "execution_count": 1,
   "metadata": {},
   "outputs": [],
   "source": [
    "import os\n",
    "os.chdir('..')"
   ]
  },
  {
   "cell_type": "code",
   "execution_count": 2,
   "metadata": {},
   "outputs": [],
   "source": [
    "#add to entity\n",
    "from pathlib import Path\n",
    "from dataclasses import dataclass\n",
    "\n",
    "@dataclass(frozen=True)\n",
    "class PrepareTrainingConfig:\n",
    "    root_dir: Path\n",
    "    trained_model_path: Path\n",
    "    updated_base_model_path: Path\n",
    "    training_data: Path\n",
    "    params_epochs: int\n",
    "    params_is_augmented: bool"
   ]
  },
  {
   "cell_type": "code",
   "execution_count": 3,
   "metadata": {},
   "outputs": [],
   "source": [
    "from src.constants import *\n",
    "from src.utils.common import read_yaml, create_directories\n",
    "import tensorflow as tf"
   ]
  },
  {
   "cell_type": "code",
   "execution_count": 4,
   "metadata": {},
   "outputs": [
    {
     "data": {
      "text/plain": [
       "WindowsPath('C:/Users/anasm/OneDrive/Desktop/Image Processing/Kidney disease detection/Data')"
      ]
     },
     "execution_count": 4,
     "metadata": {},
     "output_type": "execute_result"
    }
   ],
   "source": [
    "TRAINING_DATA_PATH"
   ]
  },
  {
   "cell_type": "code",
   "execution_count": 5,
   "metadata": {},
   "outputs": [],
   "source": [
    "#add to configuration\n",
    "class ConfigurationManager:\n",
    "    def __init__(\n",
    "        self,\n",
    "        config_filepath=CONFIG_FILE_PATH,\n",
    "        param_filepath=PARAM_FILE_PATH):\n",
    "\n",
    "        self.config=read_yaml(config_filepath)\n",
    "        self.param=read_yaml(param_filepath)\n",
    "\n",
    "        create_directories(self.config.training.root_dir)\n",
    "\n",
    "\n",
    "\n",
    "    def get_training_configs(self) ->PrepareTrainingConfig:\n",
    "        training=self.config.training\n",
    "        prepare_base_model=self.config.prepare_base_model\n",
    "\n",
    "        training_config=PrepareTrainingConfig(\n",
    "            root_dir=Path(training.root_dir),\n",
    "            trained_model_path=Path(training.trained_model_path),\n",
    "            updated_base_model_path=Path(prepare_base_model.updated_base_model_path),\n",
    "            training_data=TRAINING_DATA_PATH,\n",
    "            params_epochs=self.param.EPOCHS,\n",
    "            params_is_augmented=self.param.AUGMENTATION\n",
    "        )\n",
    "        return training_config"
   ]
  },
  {
   "cell_type": "code",
   "execution_count": 6,
   "metadata": {},
   "outputs": [],
   "source": [
    "#add to components\n",
    "import cv2\n",
    "import numpy as np\n",
    "from sklearn.model_selection import train_test_split\n",
    "class Trainer:\n",
    "    def __init__(self, config: PrepareTrainingConfig):\n",
    "        self.config=config\n",
    "\n",
    "    def get_base_model(self):\n",
    "        self.model=tf.keras.models.load_model(\n",
    "            self.config.updated_base_model_path\n",
    "        )\n",
    "    \n",
    "    def load_data(self):\n",
    "        self.normal_path=os.path.join(self.config.training_data, 'Normal')\n",
    "        self.tumor_path=os.path.join(self.config.training_data, 'Tumor')\n",
    "        self.stone_path=os.path.join(self.config.training_data, 'Stone')\n",
    "        self.cyst_path=os.path.join(self.config.training_data, 'Cyst')\n",
    "\n",
    "        self.normal_labels=[]#encode to (1, 0, 0, 0)\n",
    "        self.tumor_labels=[]#encode to (0, 1, 0, 0)\n",
    "        self.stone_labels=[]#encode to (0, 0, 1, 0)\n",
    "        self.cyst_labels=[]#encode to (0, 0, 0, 1)\n",
    "\n",
    "        self.normal_tensors=[]\n",
    "        self.tumor_tensors=[]\n",
    "        self.stone_tensors=[]\n",
    "        self.cyst_tensors=[]\n",
    "\n",
    "        for filename in os.listdir(self.normal_path):\n",
    "            img=cv2.imread(os.path.join(self.normal_path, filename),1)\n",
    "            img=cv2.cvtColor(img, cv2.COLOR_BGR2RGB)\n",
    "            img=cv2.resize(img, (224, 224))\n",
    "            self.normal_tensors.append(img)\n",
    "            self.normal_labels.append([1, 0, 0, 0])\n",
    "\n",
    "        for filename in os.listdir(self.tumor_path):\n",
    "            img=cv2.imread(os.path.join(self.tumor_path, filename),1)\n",
    "            img=cv2.cvtColor(img, cv2.COLOR_BGR2RGB)\n",
    "            img=cv2.resize(img, (224, 224))\n",
    "            self.tumor_tensors.append(img)\n",
    "            self.tumor_labels.append([0, 1, 0, 0])\n",
    "\n",
    "        for filename in os.listdir(self.stone_path):\n",
    "            img=cv2.imread(os.path.join(self.stone_path, filename),1)\n",
    "            img=cv2.cvtColor(img, cv2.COLOR_BGR2RGB)\n",
    "            img=cv2.resize(img, (224, 224))\n",
    "            self.stone_tensors.append(img)\n",
    "            self.stone_labels.append([0, 0, 1, 0])\n",
    "\n",
    "        for filename in os.listdir(self.cyst_path):\n",
    "            img=cv2.imread(os.path.join(self.cyst_path, filename),1)\n",
    "            img=cv2.cvtColor(img, cv2.COLOR_BGR2RGB)\n",
    "            img=cv2.resize(img, (224, 224))\n",
    "            self.cyst_tensors.append(img)\n",
    "            self.cyst_labels.append([0, 0, 0, 1])\n",
    "\n",
    "        self.normal_tensors=np.array(self.normal_tensors, dtype=np.uint8)\n",
    "        self.tumor_tensors=np.array(self.tumor_tensors, dtype=np.uint8)\n",
    "        self.stone_tensors=np.array(self.stone_tensors, dtype=np.uint8)\n",
    "        self.cyst_tensors=np.array(self.cyst_tensors, dtype=np.uint8)\n",
    "\n",
    "        rng = np.random.default_rng(42)\n",
    "        self.x=np.concatenate((self.normal_tensors, self.tumor_tensors, self.stone_tensors, self.cyst_tensors), axis=0)\n",
    "        rng.shuffle(self.x)\n",
    "\n",
    "        del self.normal_tensors\n",
    "        del self.tumor_tensors\n",
    "        del self.stone_tensors\n",
    "        del self.cyst_tensors\n",
    "\n",
    "        self.normal_labels=np.array(self.normal_labels, dtype=np.uint8)\n",
    "        self.tumor_labels=np.array(self.tumor_labels, dtype=np.uint8)\n",
    "        self.stone_labels=np.array(self.stone_labels, dtype=np.uint8)\n",
    "        self.cyst_labels=np.array(self.cyst_labels, dtype=np.uint8)\n",
    "\n",
    "        self.y=np.concatenate((self.normal_labels, self.tumor_labels, self.stone_labels, self.cyst_labels), dtype=np.int8)\n",
    "        rng.shuffle(self.y)\n",
    "\n",
    "        del self.normal_labels\n",
    "        del self.tumor_labels\n",
    "        del self.stone_labels\n",
    "        del self.cyst_labels\n",
    "\n",
    "    @staticmethod\n",
    "    def save_model(path: Path, model: tf.keras.Model):\n",
    "        model.save(path)\n",
    "\n",
    "    def train(self):\n",
    "        self.model.compile(optimizer='adam', loss='categorical_crossentropy')\n",
    "        self.model.summary()\n",
    "        self.model.fit(self.x, self.y, epochs=self.config.params_epochs)\n",
    "        self.save_model(self.config.trained_model_path, self.model)"
   ]
  },
  {
   "cell_type": "code",
   "execution_count": 11,
   "metadata": {},
   "outputs": [
    {
     "name": "stdout",
     "output_type": "stream",
     "text": [
      "[2024-08-17 01:15:24,053: INFO: common: yaml file: C:\\Users\\anasm\\OneDrive\\Desktop\\Image Processing\\Kidney disease detection\\config\\config.yaml loaded successfully]\n",
      "[2024-08-17 01:15:24,054: INFO: common: yaml file: C:\\Users\\anasm\\OneDrive\\Desktop\\Image Processing\\Kidney disease detection\\params.yaml loaded successfully]\n"
     ]
    }
   ],
   "source": [
    "training_config_generator=ConfigurationManager()\n",
    "training_config=training_config_generator.get_training_configs()"
   ]
  },
  {
   "cell_type": "code",
   "execution_count": 12,
   "metadata": {},
   "outputs": [
    {
     "name": "stdout",
     "output_type": "stream",
     "text": [
      "[2024-08-17 01:15:43,770: WARNING: saving_utils: Compiled the loaded model, but the compiled metrics have yet to be built. `model.compile_metrics` will be empty until you train or evaluate the model.]\n"
     ]
    }
   ],
   "source": [
    "trainer=Trainer(training_config)\n",
    "trainer.get_base_model()\n",
    "#trainer.load_data()"
   ]
  },
  {
   "cell_type": "code",
   "execution_count": 9,
   "metadata": {},
   "outputs": [],
   "source": [
    "trainer.train()"
   ]
  },
  {
   "cell_type": "code",
   "execution_count": 13,
   "metadata": {},
   "outputs": [
    {
     "data": {
      "text/html": [
       "<pre style=\"white-space:pre;overflow-x:auto;line-height:normal;font-family:Menlo,'DejaVu Sans Mono',consolas,'Courier New',monospace\"><span style=\"font-weight: bold\">Model: \"functional_3\"</span>\n",
       "</pre>\n"
      ],
      "text/plain": [
       "\u001b[1mModel: \"functional_3\"\u001b[0m\n"
      ]
     },
     "metadata": {},
     "output_type": "display_data"
    },
    {
     "data": {
      "text/html": [
       "<pre style=\"white-space:pre;overflow-x:auto;line-height:normal;font-family:Menlo,'DejaVu Sans Mono',consolas,'Courier New',monospace\">┏━━━━━━━━━━━━━━━━━━━━━━━━━━━━━━━━━┳━━━━━━━━━━━━━━━━━━━━━━━━┳━━━━━━━━━━━━━━━┓\n",
       "┃<span style=\"font-weight: bold\"> Layer (type)                    </span>┃<span style=\"font-weight: bold\"> Output Shape           </span>┃<span style=\"font-weight: bold\">       Param # </span>┃\n",
       "┡━━━━━━━━━━━━━━━━━━━━━━━━━━━━━━━━━╇━━━━━━━━━━━━━━━━━━━━━━━━╇━━━━━━━━━━━━━━━┩\n",
       "│ input_layer_1 (<span style=\"color: #0087ff; text-decoration-color: #0087ff\">InputLayer</span>)      │ (<span style=\"color: #00d7ff; text-decoration-color: #00d7ff\">None</span>, <span style=\"color: #00af00; text-decoration-color: #00af00\">224</span>, <span style=\"color: #00af00; text-decoration-color: #00af00\">224</span>, <span style=\"color: #00af00; text-decoration-color: #00af00\">3</span>)    │             <span style=\"color: #00af00; text-decoration-color: #00af00\">0</span> │\n",
       "├─────────────────────────────────┼────────────────────────┼───────────────┤\n",
       "│ vgg16 (<span style=\"color: #0087ff; text-decoration-color: #0087ff\">Functional</span>)              │ (<span style=\"color: #00d7ff; text-decoration-color: #00d7ff\">None</span>, <span style=\"color: #00af00; text-decoration-color: #00af00\">7</span>, <span style=\"color: #00af00; text-decoration-color: #00af00\">7</span>, <span style=\"color: #00af00; text-decoration-color: #00af00\">512</span>)      │    <span style=\"color: #00af00; text-decoration-color: #00af00\">14,714,688</span> │\n",
       "├─────────────────────────────────┼────────────────────────┼───────────────┤\n",
       "│ flatten (<span style=\"color: #0087ff; text-decoration-color: #0087ff\">Flatten</span>)               │ (<span style=\"color: #00d7ff; text-decoration-color: #00d7ff\">None</span>, <span style=\"color: #00af00; text-decoration-color: #00af00\">25088</span>)          │             <span style=\"color: #00af00; text-decoration-color: #00af00\">0</span> │\n",
       "├─────────────────────────────────┼────────────────────────┼───────────────┤\n",
       "│ dense (<span style=\"color: #0087ff; text-decoration-color: #0087ff\">Dense</span>)                   │ (<span style=\"color: #00d7ff; text-decoration-color: #00d7ff\">None</span>, <span style=\"color: #00af00; text-decoration-color: #00af00\">4</span>)              │       <span style=\"color: #00af00; text-decoration-color: #00af00\">100,356</span> │\n",
       "└─────────────────────────────────┴────────────────────────┴───────────────┘\n",
       "</pre>\n"
      ],
      "text/plain": [
       "┏━━━━━━━━━━━━━━━━━━━━━━━━━━━━━━━━━┳━━━━━━━━━━━━━━━━━━━━━━━━┳━━━━━━━━━━━━━━━┓\n",
       "┃\u001b[1m \u001b[0m\u001b[1mLayer (type)                   \u001b[0m\u001b[1m \u001b[0m┃\u001b[1m \u001b[0m\u001b[1mOutput Shape          \u001b[0m\u001b[1m \u001b[0m┃\u001b[1m \u001b[0m\u001b[1m      Param #\u001b[0m\u001b[1m \u001b[0m┃\n",
       "┡━━━━━━━━━━━━━━━━━━━━━━━━━━━━━━━━━╇━━━━━━━━━━━━━━━━━━━━━━━━╇━━━━━━━━━━━━━━━┩\n",
       "│ input_layer_1 (\u001b[38;5;33mInputLayer\u001b[0m)      │ (\u001b[38;5;45mNone\u001b[0m, \u001b[38;5;34m224\u001b[0m, \u001b[38;5;34m224\u001b[0m, \u001b[38;5;34m3\u001b[0m)    │             \u001b[38;5;34m0\u001b[0m │\n",
       "├─────────────────────────────────┼────────────────────────┼───────────────┤\n",
       "│ vgg16 (\u001b[38;5;33mFunctional\u001b[0m)              │ (\u001b[38;5;45mNone\u001b[0m, \u001b[38;5;34m7\u001b[0m, \u001b[38;5;34m7\u001b[0m, \u001b[38;5;34m512\u001b[0m)      │    \u001b[38;5;34m14,714,688\u001b[0m │\n",
       "├─────────────────────────────────┼────────────────────────┼───────────────┤\n",
       "│ flatten (\u001b[38;5;33mFlatten\u001b[0m)               │ (\u001b[38;5;45mNone\u001b[0m, \u001b[38;5;34m25088\u001b[0m)          │             \u001b[38;5;34m0\u001b[0m │\n",
       "├─────────────────────────────────┼────────────────────────┼───────────────┤\n",
       "│ dense (\u001b[38;5;33mDense\u001b[0m)                   │ (\u001b[38;5;45mNone\u001b[0m, \u001b[38;5;34m4\u001b[0m)              │       \u001b[38;5;34m100,356\u001b[0m │\n",
       "└─────────────────────────────────┴────────────────────────┴───────────────┘\n"
      ]
     },
     "metadata": {},
     "output_type": "display_data"
    },
    {
     "data": {
      "text/html": [
       "<pre style=\"white-space:pre;overflow-x:auto;line-height:normal;font-family:Menlo,'DejaVu Sans Mono',consolas,'Courier New',monospace\"><span style=\"font-weight: bold\"> Total params: </span><span style=\"color: #00af00; text-decoration-color: #00af00\">14,815,046</span> (56.51 MB)\n",
       "</pre>\n"
      ],
      "text/plain": [
       "\u001b[1m Total params: \u001b[0m\u001b[38;5;34m14,815,046\u001b[0m (56.51 MB)\n"
      ]
     },
     "metadata": {},
     "output_type": "display_data"
    },
    {
     "data": {
      "text/html": [
       "<pre style=\"white-space:pre;overflow-x:auto;line-height:normal;font-family:Menlo,'DejaVu Sans Mono',consolas,'Courier New',monospace\"><span style=\"font-weight: bold\"> Trainable params: </span><span style=\"color: #00af00; text-decoration-color: #00af00\">100,356</span> (392.02 KB)\n",
       "</pre>\n"
      ],
      "text/plain": [
       "\u001b[1m Trainable params: \u001b[0m\u001b[38;5;34m100,356\u001b[0m (392.02 KB)\n"
      ]
     },
     "metadata": {},
     "output_type": "display_data"
    },
    {
     "data": {
      "text/html": [
       "<pre style=\"white-space:pre;overflow-x:auto;line-height:normal;font-family:Menlo,'DejaVu Sans Mono',consolas,'Courier New',monospace\"><span style=\"font-weight: bold\"> Non-trainable params: </span><span style=\"color: #00af00; text-decoration-color: #00af00\">14,714,688</span> (56.13 MB)\n",
       "</pre>\n"
      ],
      "text/plain": [
       "\u001b[1m Non-trainable params: \u001b[0m\u001b[38;5;34m14,714,688\u001b[0m (56.13 MB)\n"
      ]
     },
     "metadata": {},
     "output_type": "display_data"
    },
    {
     "data": {
      "text/html": [
       "<pre style=\"white-space:pre;overflow-x:auto;line-height:normal;font-family:Menlo,'DejaVu Sans Mono',consolas,'Courier New',monospace\"><span style=\"font-weight: bold\"> Optimizer params: </span><span style=\"color: #00af00; text-decoration-color: #00af00\">2</span> (12.00 B)\n",
       "</pre>\n"
      ],
      "text/plain": [
       "\u001b[1m Optimizer params: \u001b[0m\u001b[38;5;34m2\u001b[0m (12.00 B)\n"
      ]
     },
     "metadata": {},
     "output_type": "display_data"
    }
   ],
   "source": [
    "trainer.model.summary()"
   ]
  },
  {
   "cell_type": "code",
   "execution_count": null,
   "metadata": {},
   "outputs": [],
   "source": []
  }
 ],
 "metadata": {
  "kernelspec": {
   "display_name": "Python 3",
   "language": "python",
   "name": "python3"
  },
  "language_info": {
   "codemirror_mode": {
    "name": "ipython",
    "version": 3
   },
   "file_extension": ".py",
   "mimetype": "text/x-python",
   "name": "python",
   "nbconvert_exporter": "python",
   "pygments_lexer": "ipython3",
   "version": "3.12.1"
  }
 },
 "nbformat": 4,
 "nbformat_minor": 2
}
